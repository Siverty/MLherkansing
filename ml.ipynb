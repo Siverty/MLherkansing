{
 "cells": [
  {
   "cell_type": "markdown",
   "metadata": {},
   "source": [
    "Hier worden alle libraries geïmporteerd"
   ]
  },
  {
   "cell_type": "code",
   "execution_count": null,
   "metadata": {},
   "outputs": [],
   "source": [
    "# importing required libraries\n",
    "\n",
    "import pandas as pd\n",
    "from pandas import read_csv\n",
    "from datetime import datetime\n",
    "import matplotlib.pyplot as plt\n",
    "import numpy as np\n",
    "from sklearn.model_selection import train_test_split\n",
    "from sklearn.preprocessing import LabelEncoder\n",
    "from sklearn.model_selection import train_test_split\n",
    "from sklearn.metrics import r2_score\n",
    "from sklearn import datasets\n",
    "from sklearn import tree\n",
    "import warnings\n",
    "warnings.simplefilter(\"ignore\")\n"
   ]
  },
  {
   "cell_type": "markdown",
   "metadata": {},
   "source": [
    "Hier wordt alle data van de dataset opgehaald"
   ]
  },
  {
   "cell_type": "code",
   "execution_count": null,
   "metadata": {},
   "outputs": [],
   "source": [
    "# importing the dataset\n",
    "\n",
    "result_df = pd.read_csv(\"./data/results.csv\")\n",
    "stats_df = pd.read_csv(\"./data/status.csv\")\n",
    "drivers_df = pd.read_csv(\"./data/drivers.csv\")\n",
    "races_df = pd.read_csv(\"./data/races.csv\")\n",
    "constructor_df = pd.read_csv(\"./data/constructors.csv\")\n",
    "driver_standings_df = pd.read_csv(\"./data/driver_standings.csv\")\n",
    "qualifying_df = pd.read_csv(\"./data/qualifying.csv\")\n"
   ]
  },
  {
   "cell_type": "markdown",
   "metadata": {},
   "source": [
    "De data wordt weergegeven om te checken of het ophalen hiervan goed is gegaan"
   ]
  },
  {
   "cell_type": "code",
   "execution_count": null,
   "metadata": {},
   "outputs": [],
   "source": [
    "# Viewing the data\n",
    "result_df.head()\n"
   ]
  },
  {
   "cell_type": "markdown",
   "metadata": {},
   "source": [
    "Alle data wordt samengevoegd tot 1 dataframe en daarna wordt deze weergegeven om te checken of alles goed is gegaan"
   ]
  },
  {
   "cell_type": "code",
   "execution_count": null,
   "metadata": {},
   "outputs": [],
   "source": [
    "# merging all seperate dataframe into single dataframe as df\n",
    "con1 = pd.merge(result_df, races_df, on='raceId')\n",
    "con2 = pd.merge(con1, drivers_df, on='driverId')\n",
    "con3 = pd.merge(con2, driver_standings_df, on=['driverId', 'raceId'])\n",
    "con4 = pd.merge(con3, constructor_df, on='constructorId')\n",
    "con5 = pd.merge(con4, qualifying_df, on=['raceId', 'driverId'])\n",
    "df = pd.merge(con5, stats_df, on=['statusId'])\n",
    "pd.get_option(\"display.max_columns\", None)\n",
    "\n",
    "# checking the data types\n",
    "df.head()\n"
   ]
  },
  {
   "cell_type": "markdown",
   "metadata": {},
   "source": [
    "Er wordt gekeken welke data types er in de dataframe zitten, en hoeveel RAM ze gebruiken"
   ]
  },
  {
   "cell_type": "code",
   "execution_count": null,
   "metadata": {},
   "outputs": [],
   "source": [
    "# checking what types of data are in the dataframe and how much ram they take up\n",
    "df.info()\n"
   ]
  },
  {
   "cell_type": "markdown",
   "metadata": {},
   "source": [
    "Alle kollomen die in het dataframe staan worden hier geprint"
   ]
  },
  {
   "cell_type": "code",
   "execution_count": null,
   "metadata": {},
   "outputs": [],
   "source": [
    "# viewing the columns in the dataframe\n",
    "df.columns\n"
   ]
  },
  {
   "cell_type": "markdown",
   "metadata": {},
   "source": [
    "Alle kollomen die geen waardevolle data hebben worden hier gedropt"
   ]
  },
  {
   "cell_type": "code",
   "execution_count": null,
   "metadata": {},
   "outputs": [],
   "source": [
    "# dropping unnecessary columns\n",
    "df = df.drop(['url', 'url_x', 'fastestLapTime', 'positionText_x', 'time_x', 'time_y', 'driverRef', 'constructorRef', 'nationality_y', 'url_y', 'positionText_y', 'points_y', 'rank', 'number_y', 'milliseconds', 'fastestLapSpeed',\n",
    "             'number_x', 'code', 'fastestLap', 'driverStandingsId', 'q1', 'q2', 'q3', 'status', 'constructorId_x', 'constructorId_y', 'points_x', 'qualifyId', 'wins', 'resultId', 'positionOrder', 'position_y', 'grid', 'statusId'], axis='columns')\n"
   ]
  },
  {
   "cell_type": "markdown",
   "metadata": {},
   "source": [
    "Alle kollomen met onduidelijke namen worden hernoemd naar namen die duidelijk aangeven welke data er in staat"
   ]
  },
  {
   "cell_type": "code",
   "execution_count": null,
   "metadata": {},
   "outputs": [],
   "source": [
    "# renaming the column names to less confusing names\n",
    "\n",
    "col_name = {'name_x': 'grand_prix', 'nationality_x': 'nationality', 'name_y': 'constructor',\n",
    "            'raceId_x': 'racerId', 'points_x': 'points', 'forename': 'firstname', 'position_x': 'finnishPosition'}\n",
    "\n",
    "df.rename(columns=col_name, inplace=True)\n",
    "df.head()\n"
   ]
  },
  {
   "cell_type": "markdown",
   "metadata": {},
   "source": [
    "Twee kolommen die los van elkaar overbodige kollomen vormen worden samen gevoegd tot 1 zinvolle en bruikbare kolom"
   ]
  },
  {
   "cell_type": "code",
   "execution_count": null,
   "metadata": {},
   "outputs": [],
   "source": [
    "# combining the two columns into one column for better readability\n",
    "\n",
    "df['driver_name'] = df.pop('firstname')+' '+df.pop('surname')\n"
   ]
  },
  {
   "cell_type": "markdown",
   "metadata": {},
   "source": [
    "Er wordt gekeken of het samenvoegen gelukt is"
   ]
  },
  {
   "cell_type": "code",
   "execution_count": null,
   "metadata": {},
   "outputs": [],
   "source": [
    "df.head()\n"
   ]
  },
  {
   "cell_type": "markdown",
   "metadata": {},
   "source": [
    "De kollomen \"dob\" en \"date\" worden van een string omgezet naar een datetime format"
   ]
  },
  {
   "cell_type": "code",
   "execution_count": null,
   "metadata": {},
   "outputs": [],
   "source": [
    "# turning string colums into datetime columns\n",
    "\n",
    "df['dob'] = pd.to_datetime(df['dob'])\n",
    "df['date'] = pd.to_datetime(df['date'])\n"
   ]
  },
  {
   "cell_type": "markdown",
   "metadata": {},
   "source": [
    "Date en dob worden hier samengevoegd tot de kollom \"age\", \"age\" wordt berekend door de verkregen waardes te delen door 365 en daarna af te ronden om de data relationeler te maken. Hierna worden de eerste kollomen geprint om te checken of het gelukt is"
   ]
  },
  {
   "cell_type": "code",
   "execution_count": null,
   "metadata": {},
   "outputs": [],
   "source": [
    "# calculating driver's age and creating it as a new column\n",
    "\n",
    "dates = df.pop('date')-df.pop('dob')\n",
    "age = dates.dt.days/365\n",
    "\n",
    "\n",
    "# rounding the age to the nearest year for better relational analysis\n",
    "\n",
    "df['age'] = round(age)\n",
    "pd.set_option('display.max_columns', None)\n",
    "\n",
    "df.head()\n"
   ]
  },
  {
   "cell_type": "markdown",
   "metadata": {},
   "source": [
    "Er wordt aangetoond data het verwerken van de data zorgt voor minder RAM gebruik"
   ]
  },
  {
   "cell_type": "code",
   "execution_count": null,
   "metadata": {},
   "outputs": [],
   "source": [
    "# showing that the data processing lessens the ram usage (from 49 columns to 13 columns)\n",
    "\n",
    "df.info()\n"
   ]
  },
  {
   "cell_type": "markdown",
   "metadata": {},
   "source": [
    "Er wordt gekeken of er null waardes in het dataframe staan, sinds dat niet het geval is hoeft er niet met null waardes te worden gewerkt"
   ]
  },
  {
   "cell_type": "code",
   "execution_count": null,
   "metadata": {},
   "outputs": [],
   "source": [
    "# checking for null values\n",
    "\n",
    "df.isnull().sum() / len(df) * 100\n",
    "\n",
    "\n",
    "# since unused there are no null values in this dataframe there has to be no handling of null values\n"
   ]
  },
  {
   "cell_type": "markdown",
   "metadata": {},
   "source": [
    "De functie labelencoder zet catagorische variabelen om naar nummerieke (coderen) zodat de computer ze kan interpeteren"
   ]
  },
  {
   "cell_type": "code",
   "execution_count": null,
   "metadata": {},
   "outputs": [],
   "source": [
    "# doing necessary imports to let the machine actually understand the data\n",
    "\n",
    "le = LabelEncoder()\n"
   ]
  },
  {
   "cell_type": "markdown",
   "metadata": {},
   "source": [
    "Waardes onder 2010 worden niet meegenomen omdat deze niet representatief zijn voor nieuwere berekeningen"
   ]
  },
  {
   "cell_type": "code",
   "execution_count": null,
   "metadata": {},
   "outputs": [],
   "source": [
    "# dropping years before 2010 because there was a new points system introduced so previous data is not accurate anymore\n",
    "\n",
    "df.drop(df[df.year < 2010].index, inplace=True)"
   ]
  },
  {
   "cell_type": "markdown",
   "metadata": {},
   "source": [
    "Kolommen worden ingedeeld in categorische kolommen en nummerieke kolommen"
   ]
  },
  {
   "cell_type": "code",
   "execution_count": null,
   "metadata": {},
   "outputs": [],
   "source": [
    "# seperating categorical and numerical columns for understading\n",
    "\n",
    "cat = []\n",
    "num = []\n",
    "for i in df.columns:\n",
    "    if df[i].dtypes == 'O':\n",
    "        cat.append(i)\n",
    "    else:\n",
    "        num.append(i)\n"
   ]
  },
  {
   "cell_type": "markdown",
   "metadata": {},
   "source": [
    "Categorische tabellen worden omgezet naar nummerieke waarden door middel van codering"
   ]
  },
  {
   "cell_type": "code",
   "execution_count": null,
   "metadata": {},
   "outputs": [],
   "source": [
    "# encoding categorical columns\n",
    "\n",
    "for i in cat:\n",
    "    df[i] = le.fit_transform(df[i])\n",
    "df.head()\n"
   ]
  },
  {
   "cell_type": "markdown",
   "metadata": {},
   "source": [
    "De index van de database wordt opnieuw ingedeeld zodat deze met het nieuwe dataframe beter leesbaar is"
   ]
  },
  {
   "cell_type": "code",
   "execution_count": null,
   "metadata": {},
   "outputs": [],
   "source": [
    "df = df.reset_index()"
   ]
  },
  {
   "cell_type": "markdown",
   "metadata": {},
   "source": [
    "Het preprocessen van de data is afgelopen en het dataframe wordt in een .csv opgeslagen"
   ]
  },
  {
   "cell_type": "code",
   "execution_count": null,
   "metadata": {},
   "outputs": [],
   "source": [
    "df.to_csv(r'./newdata/collectionfile.csv')"
   ]
  },
  {
   "cell_type": "markdown",
   "metadata": {},
   "source": [
    "Het definieren van de waarden van de decisiontree aan een variabele (model)"
   ]
  },
  {
   "cell_type": "code",
   "execution_count": null,
   "metadata": {},
   "outputs": [],
   "source": [
    "# defining the tree structure\n",
    "\n",
    "model = tree.DecisionTreeRegressor(max_depth=5, random_state=1234)\n"
   ]
  },
  {
   "cell_type": "markdown",
   "metadata": {},
   "source": [
    "Het definieren van de waarden die gebruikt worden om te voorspellen en de te voorspellen waarde"
   ]
  },
  {
   "cell_type": "code",
   "execution_count": null,
   "metadata": {},
   "outputs": [],
   "source": [
    "# creating two seperate dataframes for the training and testing data\n",
    "\n",
    "X = pd.DataFrame(df.drop(['finnishPosition'], axis=1))\n",
    "\n",
    "y = pd.DataFrame(df, columns=['finnishPosition'])\n"
   ]
  },
  {
   "cell_type": "markdown",
   "metadata": {},
   "source": [
    "De data splitten in trainingdata en testdata met de gegeven parameters"
   ]
  },
  {
   "cell_type": "code",
   "execution_count": null,
   "metadata": {},
   "outputs": [],
   "source": [
    "# performing a train test split to separate the data into training and testing data\n",
    "\n",
    "Xtrain, Xtest, ytrain, ytest = train_test_split(\n",
    "    X, y, test_size=0.33, random_state=42)\n"
   ]
  },
  {
   "cell_type": "markdown",
   "metadata": {},
   "source": [
    "Past de classificationTree aan, aan de invoertrainingsgegevens"
   ]
  },
  {
   "cell_type": "code",
   "execution_count": null,
   "metadata": {},
   "outputs": [],
   "source": [
    "model.fit(Xtrain, ytrain)"
   ]
  },
  {
   "cell_type": "markdown",
   "metadata": {},
   "source": [
    "Scoort het model van de kolom boven op overeenkomst"
   ]
  },
  {
   "cell_type": "code",
   "execution_count": null,
   "metadata": {},
   "outputs": [],
   "source": [
    "model.score(Xtrain, ytrain)\n"
   ]
  },
  {
   "cell_type": "markdown",
   "metadata": {},
   "source": [
    "Past de classificationTree aan, aan de invoertrainingsgegevens"
   ]
  },
  {
   "cell_type": "code",
   "execution_count": null,
   "metadata": {},
   "outputs": [],
   "source": [
    "model.fit(Xtest, ytest)"
   ]
  },
  {
   "cell_type": "markdown",
   "metadata": {},
   "source": [
    "Scoort het model van de kolom boven op overeenkomst"
   ]
  },
  {
   "cell_type": "code",
   "execution_count": null,
   "metadata": {},
   "outputs": [],
   "source": [
    "model.score(Xtest, ytest)\n"
   ]
  },
  {
   "cell_type": "markdown",
   "metadata": {},
   "source": [
    "Voorspelling maken van y op basis van Xtest"
   ]
  },
  {
   "cell_type": "code",
   "execution_count": null,
   "metadata": {},
   "outputs": [],
   "source": [
    "y_pred_tree = model.predict(Xtest)\n"
   ]
  },
  {
   "cell_type": "markdown",
   "metadata": {},
   "source": [
    "Het vergelijken van de ytest- en de voorspelde y waarden"
   ]
  },
  {
   "cell_type": "code",
   "execution_count": null,
   "metadata": {},
   "outputs": [],
   "source": [
    "r2_score(ytest, y_pred_tree)"
   ]
  },
  {
   "cell_type": "markdown",
   "metadata": {},
   "source": [
    "Een grafiek maken die de werkelijke data plot tegen de voorspelde data"
   ]
  },
  {
   "cell_type": "code",
   "execution_count": null,
   "metadata": {},
   "outputs": [],
   "source": [
    "# visualising the first 50 rows of the data vs the predicted values\n",
    "\n",
    "figGraph = plt.figure(figsize=(10, 10))\n",
    "\n",
    "plt.plot([item for item in range(len(ytest[0:50]))], ytest.values[0:50], label=\"Actual Data\", linestyle=':')\n",
    "plt.plot([item for item in range(len(ytest[0:50]))], y_pred_tree[0:50], label=\"Predicted Data\")\n",
    "plt.ylabel(\"FinnishPosition\")\n",
    "plt.xlabel(\"Drivers\")\n",
    "plt.legend(loc='best')\n",
    "plt.show()\n"
   ]
  },
  {
   "cell_type": "markdown",
   "metadata": {},
   "source": [
    "Het opslaan van de grafiek"
   ]
  },
  {
   "cell_type": "code",
   "execution_count": null,
   "metadata": {},
   "outputs": [],
   "source": [
    "figGraph.savefig(\"./Figures/predictionVSreality_graph.png\")"
   ]
  },
  {
   "cell_type": "markdown",
   "metadata": {},
   "source": [
    "De variable feature_names definieren als X om het te plotten in een decisiontree"
   ]
  },
  {
   "cell_type": "code",
   "execution_count": null,
   "metadata": {},
   "outputs": [],
   "source": [
    "# defining the variables for the tree\n",
    "\n",
    "fn = list(X)\n"
   ]
  },
  {
   "cell_type": "markdown",
   "metadata": {},
   "source": [
    "Het plotten van de tree"
   ]
  },
  {
   "cell_type": "code",
   "execution_count": null,
   "metadata": {},
   "outputs": [],
   "source": [
    "# creating the tree\n",
    "\n",
    "treeFig = plt.figure(figsize=(150,150))\n",
    "_ = tree.plot_tree(model,\n",
    "               feature_names=fn,\n",
    "               filled=True)"
   ]
  },
  {
   "cell_type": "markdown",
   "metadata": {},
   "source": [
    "Het opslaan van de geplotte tree"
   ]
  },
  {
   "cell_type": "code",
   "execution_count": null,
   "metadata": {},
   "outputs": [],
   "source": [
    "# saving the plotted tree as a png file\n",
    "\n",
    "treeFig.savefig(\"./Figures/decision_tree.png\")"
   ]
  }
 ],
 "metadata": {
  "interpreter": {
   "hash": "b89b5cfaba6639976dc87ff2fec6d58faec662063367e2c229c520fe71072417"
  },
  "kernelspec": {
   "display_name": "Python 3.10.3 64-bit",
   "language": "python",
   "name": "python3"
  },
  "language_info": {
   "codemirror_mode": {
    "name": "ipython",
    "version": 3
   },
   "file_extension": ".py",
   "mimetype": "text/x-python",
   "name": "python",
   "nbconvert_exporter": "python",
   "pygments_lexer": "ipython3",
   "version": "3.10.3"
  },
  "orig_nbformat": 4
 },
 "nbformat": 4,
 "nbformat_minor": 2
}
